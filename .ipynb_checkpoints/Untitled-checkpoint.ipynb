{
 "cells": [
  {
   "cell_type": "code",
   "execution_count": null,
   "id": "2db958dd-084d-428d-9963-03e8f437ba2f",
   "metadata": {},
   "outputs": [],
   "source": []
  }
 ],
 "metadata": {
  "kernelspec": {
   "display_name": "",
   "name": ""
  },
  "language_info": {
   "name": ""
  }
 },
 "nbformat": 4,
 "nbformat_minor": 5
}
