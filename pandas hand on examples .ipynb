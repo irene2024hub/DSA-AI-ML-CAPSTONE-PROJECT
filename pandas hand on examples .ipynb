{
 "cells": [
  {
   "cell_type": "code",
   "execution_count": 1,
   "id": "2db958dd-084d-428d-9963-03e8f437ba2f",
   "metadata": {},
   "outputs": [
    {
     "name": "stdout",
     "output_type": "stream",
     "text": [
      "hello, welcome to DSA AL/ML class\n"
     ]
    }
   ],
   "source": [
    "print (\"hello, welcome to DSA AL/ML class\")"
   ]
  },
  {
   "cell_type": "code",
   "execution_count": 1,
   "id": "99f51862-e988-4e56-9f11-33825982ada7",
   "metadata": {},
   "outputs": [
    {
     "name": "stdout",
     "output_type": "stream",
     "text": [
      "hello samson\n"
     ]
    }
   ],
   "source": [
    "print (\"hello samson\")"
   ]
  },
  {
   "cell_type": "code",
   "execution_count": 5,
   "id": "32439e77-7d1f-42d7-9880-df522fb7c274",
   "metadata": {},
   "outputs": [
    {
     "name": "stdout",
     "output_type": "stream",
     "text": [
      "i love football\n"
     ]
    }
   ],
   "source": [
    "print (\"i love football\")"
   ]
  },
  {
   "cell_type": "code",
   "execution_count": 17,
   "id": "66ea0d5e-2bfe-41ab-8366-f11f95d8a3ed",
   "metadata": {},
   "outputs": [
    {
     "data": {
      "text/plain": [
       "11"
      ]
     },
     "execution_count": 17,
     "metadata": {},
     "output_type": "execute_result"
    }
   ],
   "source": [
    "tope = 5 \n",
    "emma = 6\n",
    "tope+emma\n"
   ]
  },
  {
   "cell_type": "code",
   "execution_count": 13,
   "id": "cc173111-2953-46a0-a01b-e86244b3dcab",
   "metadata": {},
   "outputs": [
    {
     "name": "stdout",
     "output_type": "stream",
     "text": [
      "11\n"
     ]
    }
   ],
   "source": [
    "print (tope+emma)"
   ]
  },
  {
   "cell_type": "code",
   "execution_count": 19,
   "id": "38796677-5873-41e2-8088-3c5e83377d3c",
   "metadata": {},
   "outputs": [
    {
     "data": {
      "text/plain": [
       "0.8333333333333334"
      ]
     },
     "execution_count": 19,
     "metadata": {},
     "output_type": "execute_result"
    }
   ],
   "source": [
    "tope/emma"
   ]
  },
  {
   "cell_type": "code",
   "execution_count": 21,
   "id": "cbac2655-7592-487d-a64e-bce255f305e2",
   "metadata": {},
   "outputs": [
    {
     "name": "stdout",
     "output_type": "stream",
     "text": [
      "my name is irene\n"
     ]
    }
   ],
   "source": [
    "print (\"my name is irene\")"
   ]
  },
  {
   "cell_type": "code",
   "execution_count": 24,
   "id": "d9396ddc-a623-421f-afbf-8b5276f6b24f",
   "metadata": {},
   "outputs": [],
   "source": [
    "# Pandas Practical Examples\n",
    "import pandas as pd\n",
    "import numpy as np\n",
    "import seaborn as sns\n",
    "import matplotlib.pyplot as plt"
   ]
  },
  {
   "cell_type": "code",
   "execution_count": 28,
   "id": "20635864-0e57-474f-bee7-e8a16220497a",
   "metadata": {},
   "outputs": [
    {
     "name": "stdout",
     "output_type": "stream",
     "text": [
      "DataFrame:\n",
      "       Name   Age  Score\n",
      "0    Alice  25.0   85.0\n",
      "1      Bob  30.0   90.0\n",
      "2  Charlie   NaN   95.0\n",
      "3    David  22.0    NaN\n"
     ]
    }
   ],
   "source": [
    " #Creating DataFrames\n",
    "data = {\n",
    "    'Name': ['Alice', 'Bob', 'Charlie', 'David'],\n",
    "    'Age': [25, 30, np.nan, 22],\n",
    "    'Score': [85, 90, 95, None]}\n",
    "df = pd.DataFrame(data)\n",
    "print(\"DataFrame:\\n\", df)"
   ]
  },
  {
   "cell_type": "code",
   "execution_count": 30,
   "id": "c3c399bc-38fe-4c8e-8edf-75588badfe3e",
   "metadata": {},
   "outputs": [
    {
     "name": "stdout",
     "output_type": "stream",
     "text": [
      "Missing values:\n",
      "     Name    Age  Score\n",
      "0  False  False  False\n",
      "1  False  False  False\n",
      "2  False   True  False\n",
      "3  False  False   True\n"
     ]
    }
   ],
   "source": [
    "# 2. Handling missing data\n",
    "print(\"Missing values:\\n\", df.isnull())"
   ]
  },
  {
   "cell_type": "code",
   "execution_count": 32,
   "id": "926d824c-b45f-48a2-b677-a1d8f47b254b",
   "metadata": {},
   "outputs": [
    {
     "name": "stdout",
     "output_type": "stream",
     "text": [
      "Filled DataFrame:\n",
      "       Name        Age  Score\n",
      "0    Alice  25.000000   85.0\n",
      "1      Bob  30.000000   90.0\n",
      "2  Charlie  25.666667   95.0\n",
      "3    David  22.000000   90.0\n"
     ]
    }
   ],
   "source": [
    "df_filled = df.fillna({'Age': df['Age'].mean(), 'Score': df['Score'].mean()})\n",
    "print(\"Filled DataFrame:\\n\", df_filled)"
   ]
  },
  {
   "cell_type": "code",
   "execution_count": 34,
   "id": "9c93561b-8eef-48fb-bc3c-207fd2925a3c",
   "metadata": {},
   "outputs": [
    {
     "name": "stdout",
     "output_type": "stream",
     "text": [
      "Ages > 24:\n",
      "     Name   Age  Score\n",
      "0  Alice  25.0   85.0\n",
      "1    Bob  30.0   90.0\n"
     ]
    }
   ],
   "source": [
    "# 3. Filtering and selection\n",
    "print(\"Ages > 24:\\n\", df[df['Age'] > 24])"
   ]
  },
  {
   "cell_type": "code",
   "execution_count": 36,
   "id": "37e725fe-4005-4545-8451-400eb663a2d1",
   "metadata": {},
   "outputs": [
    {
     "name": "stdout",
     "output_type": "stream",
     "text": [
      "Grouped by name:\n",
      "          Score\n",
      "Name          \n",
      "Alice     85.0\n",
      "Bob       90.0\n",
      "Charlie   95.0\n",
      "David     90.0\n"
     ]
    }
   ],
   "source": [
    "# 4. Grouping and aggregation\n",
    "grouped = df_filled.groupby('Name').agg({'Score': 'mean'})\n",
    "print(\"Grouped by name:\\n\", grouped)"
   ]
  },
  {
   "cell_type": "code",
   "execution_count": null,
   "id": "95e91ce1-20b6-4f47-b429-46d7af9c0504",
   "metadata": {},
   "outputs": [],
   "source": [
    "# Creating a Series\n",
    "s = pd.Series([10, 20, 30, 40], name=\"Numbers\")\n",
    "print(\"Series:\\n\", s)\n",
    "\n",
    "# Creating a DataFrame\n",
    "data = {\n",
    "    'Name': ['Alice', 'Bob', 'Charlie'],\n",
    "    'Age': [25, 30, 35],\n",
    "    'Score': [90, 85, 88]\n",
    "}\n",
    "df = pd.DataFrame(data)"
   ]
  },
  {
   "cell_type": "code",
   "execution_count": 38,
   "id": "518e86d2-c3f4-4b69-a465-f7ac7d37a0ed",
   "metadata": {},
   "outputs": [
    {
     "name": "stdout",
     "output_type": "stream",
     "text": [
      "\n",
      "DataFrame:\n",
      "       Name   Age  Score\n",
      "0    Alice  25.0   85.0\n",
      "1      Bob  30.0   90.0\n",
      "2  Charlie   NaN   95.0\n",
      "3    David  22.0    NaN\n"
     ]
    }
   ],
   "source": [
    "print(\"\\nDataFrame:\\n\", df)"
   ]
  },
  {
   "cell_type": "code",
   "execution_count": 7,
   "id": "dc3e23ab-7723-4ad6-bc17-6aebc255c026",
   "metadata": {},
   "outputs": [
    {
     "name": "stdout",
     "output_type": "stream",
     "text": [
      "(0, 1, 2, 3, 4)\n"
     ]
    }
   ],
   "source": [
    "x = (0,1,2,3,4)\n",
    "print (x)"
   ]
  },
  {
   "cell_type": "code",
   "execution_count": 21,
   "id": "db5f722b-f4bd-4640-9a98-09a28981256d",
   "metadata": {},
   "outputs": [
    {
     "name": "stdout",
     "output_type": "stream",
     "text": [
      "john 25\n"
     ]
    }
   ],
   "source": [
    "df= {\"age\":25, \"name\": \"john\"}\n",
    "print(df[\"name\"], df[\"age\"])"
   ]
  },
  {
   "cell_type": "code",
   "execution_count": null,
   "id": "dcb80de5-cf48-488c-8758-e120dc160dba",
   "metadata": {},
   "outputs": [],
   "source": []
  }
 ],
 "metadata": {
  "kernelspec": {
   "display_name": "Python 3 (ipykernel)",
   "language": "python",
   "name": "python3"
  },
  "language_info": {
   "codemirror_mode": {
    "name": "ipython",
    "version": 3
   },
   "file_extension": ".py",
   "mimetype": "text/x-python",
   "name": "python",
   "nbconvert_exporter": "python",
   "pygments_lexer": "ipython3",
   "version": "3.12.7"
  }
 },
 "nbformat": 4,
 "nbformat_minor": 5
}
